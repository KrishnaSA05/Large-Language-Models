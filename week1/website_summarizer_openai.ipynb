{
 "cells": [
  {
   "cell_type": "code",
   "execution_count": 7,
   "id": "4d03ff8e",
   "metadata": {},
   "outputs": [],
   "source": [
    "import os\n",
    "import requests\n",
    "from dotenv import load_dotenv\n",
    "from bs4 import BeautifulSoup\n",
    "from IPython.display import Markdown, display\n",
    "from openai import OpenAI"
   ]
  },
  {
   "cell_type": "code",
   "execution_count": 8,
   "id": "ec7005ee",
   "metadata": {},
   "outputs": [],
   "source": [
    "# Load environment variables from .env file\n",
    "load_dotenv(override=True)\n",
    "api_key = os.getenv('OPENAI_API_KEY')"
   ]
  },
  {
   "cell_type": "code",
   "execution_count": 9,
   "id": "808f634f",
   "metadata": {},
   "outputs": [],
   "source": [
    "openai = OpenAI()"
   ]
  },
  {
   "cell_type": "code",
   "execution_count": null,
   "id": "b6ab2f4a",
   "metadata": {},
   "outputs": [],
   "source": [
    "headers = {\n",
    " \"User-Agent\": \"Mozilla/5.0 (Windows NT 10.0; Win64; x64) AppleWebKit/537.36 (KHTML, like Gecko) Chrome/117.0.0.0 Safari/537.36\"\n",
    "}\n",
    "\n",
    "class Website:\n",
    "\n",
    "    def __init__(self, url):\n",
    "        self.url = url\n",
    "        response = requests.get(url, headers=headers)\n",
    "        soup = BeautifulSoup(response.content, 'html.parser') # beautifulsoup helps parse html content\n",
    "        self.title = soup.title.string if soup.title else \"No title found\"\n",
    "        for irrelevant in soup.body([\"script\", \"style\", \"img\", \"input\"]):\n",
    "            irrelevant.decompose()\n",
    "        self.text = soup.body.get_text(separator=\"\\n\", strip=True)"
   ]
  },
  {
   "cell_type": "code",
   "execution_count": 11,
   "id": "59758950",
   "metadata": {},
   "outputs": [
    {
     "name": "stdout",
     "output_type": "stream",
     "text": [
      "Perplexity AI - Wikipedia\n",
      "Jump to content\n",
      "Main menu\n",
      "Main menu\n",
      "move to sidebar\n",
      "hide\n",
      "Navigation\n",
      "Main page\n",
      "Contents\n",
      "Current events\n",
      "Random article\n",
      "About Wikipedia\n",
      "Contact us\n",
      "Contribute\n",
      "Help\n",
      "Learn to edit\n",
      "Community portal\n",
      "Recent changes\n",
      "Upload file\n",
      "Special pages\n",
      "Search\n",
      "Search\n",
      "Appearance\n",
      "Donate\n",
      "Create account\n",
      "Log in\n",
      "Personal tools\n",
      "Donate\n",
      "Create account\n",
      "Log in\n",
      "Pages for logged out editors\n",
      "learn more\n",
      "Contributions\n",
      "Talk\n",
      "Contents\n",
      "move to sidebar\n",
      "hide\n",
      "(Top)\n",
      "1\n",
      "History\n",
      "2\n",
      "Products and services\n",
      "Toggle Products and services subsection\n",
      "2\n"
     ]
    }
   ],
   "source": [
    "link=Website(\"https://en.wikipedia.org/wiki/Perplexity_AI\")\n",
    "print(link.title)\n",
    "print(link.text[:500])  # Print the first 500 characters of the text content"
   ]
  },
  {
   "cell_type": "code",
   "execution_count": 28,
   "id": "d9eb8aa6",
   "metadata": {},
   "outputs": [],
   "source": [
    "# Define our system prompt - you can experiment with this later, changing the last sentence to 'Respond in markdown in Spanish.\"\n",
    "\n",
    "system_prompt = \"You are an assistant that analyzes the contents of a website \\\n",
    "and provides a short summary, ignoring text that might be navigation related. \\\n",
    "Respond in markdown.\""
   ]
  },
  {
   "cell_type": "code",
   "execution_count": 29,
   "id": "e16bf51a",
   "metadata": {},
   "outputs": [],
   "source": [
    "# A function that writes a User Prompt that asks for summaries of websites:\n",
    "\n",
    "def user_prompt_for(website):\n",
    "    user_prompt = f\"You are looking at a website titled {website.title}\"\n",
    "    user_prompt += \"\\nThe contents of this website is as follows; \\\n",
    "please provide a short summary of this website in markdown. \\\n",
    "If it includes news or announcements, then summarize these too.\\n\\n\"\n",
    "    user_prompt += website.text\n",
    "    return user_prompt\n",
    "\n"
   ]
  },
  {
   "cell_type": "code",
   "execution_count": null,
   "id": "870f0bde",
   "metadata": {},
   "outputs": [],
   "source": [
    "def messages_for(website):\n",
    "    return [\n",
    "        {\"role\": \"system\", \"content\": system_prompt},\n",
    "        {\"role\": \"user\", \"content\": user_prompt_for(website)}\n",
    "    ]"
   ]
  },
  {
   "cell_type": "code",
   "execution_count": 30,
   "id": "ff3f2c64",
   "metadata": {},
   "outputs": [],
   "source": [
    "# Generate a summary of content fetched by scraping the website\n",
    "def summarize(url):\n",
    "    website = Website(url)\n",
    "    response = openai.chat.completions.create(\n",
    "        model = \"gpt-4o-mini\",\n",
    "        messages = messages_for(website)\n",
    "    )\n",
    "    return response.choices[0].message.content\n"
   ]
  },
  {
   "cell_type": "code",
   "execution_count": 31,
   "id": "c2cb6e3a",
   "metadata": {},
   "outputs": [],
   "source": [
    "messages = [\n",
    "    {\"role\": \"system\", \"content\": system_prompt},\n",
    "    {\"role\": \"user\", \"content\": user_prompt_for(link)}\n",
    "]"
   ]
  },
  {
   "cell_type": "code",
   "execution_count": 32,
   "id": "3e14c446",
   "metadata": {},
   "outputs": [
    {
     "name": "stdout",
     "output_type": "stream",
     "text": [
      "# Summary of Perplexity AI - Wikipedia\n",
      "\n",
      "**Perplexity AI, Inc. Overview**  \n",
      "Perplexity AI is an American private software company founded in 2022, based in San Francisco, California. It operates a web search engine that utilizes large language models to process user queries and provide synthesized responses with inline citations. The company offers both a free public version and a paid Pro subscription with advanced features. As of 2024, it had about 52 employees and was valued at around $18 billion.\n",
      "\n",
      "**History and Growth**  \n",
      "Perplexity AI was established by Aravind Srinivas, Denis Yarats, Johnny Ho, and Andy Konwinski. It launched its main search engine on December 7, 2022. Since its inception, the company has experienced significant growth, reporting two million unique visitors and handling up to 780 million queries monthly by May 2025.\n",
      "\n",
      "**Products and Services**  \n",
      "The company’s offerings include:\n",
      "- **Perplexity Pro**: A subscription service providing access to premium features.\n",
      "- **Internal Knowledge Search**: Allows users to search both web and internal documents.\n",
      "- **Shopping Hub**: A platform for product recommendations, launched in November 2024.\n",
      "- **Perplexity Assistant**: An AI tool for task automation launched in January 2025.\n",
      "- **Comet**: An AI browser introduced in July 2025.\n",
      "\n",
      "**Controversies**  \n",
      "Perplexity AI has faced multiple legal challenges, including allegations of copyright and trademark infringement from major media organizations like The New York Times and BBC. Critics have accused the company of using undisclosed web crawlers to scrape content from sites that prohibit such actions, raising questions about the ethics of its data sourcing practices.\n",
      "\n",
      "**Recent Developments**  \n",
      "In January 2025, the company submitted a proposal to merge with TikTok, and later in August 2025, offered $34.5 billion to purchase Google Chrome in an effort to alleviate antitrust issues against Google.\n",
      "\n",
      "This summary encapsulates the key information regarding Perplexity AI, its business operations, and the challenges it faces in the AI and tech landscape.\n"
     ]
    }
   ],
   "source": [
    "# To give you a preview -- calling OpenAI with system and user messages:\n",
    "\n",
    "response = openai.chat.completions.create(model=\"gpt-4o-mini\", messages=messages)\n",
    "print(response.choices[0].message.content)"
   ]
  }
 ],
 "metadata": {
  "kernelspec": {
   "display_name": "llms",
   "language": "python",
   "name": "python3"
  },
  "language_info": {
   "codemirror_mode": {
    "name": "ipython",
    "version": 3
   },
   "file_extension": ".py",
   "mimetype": "text/x-python",
   "name": "python",
   "nbconvert_exporter": "python",
   "pygments_lexer": "ipython3",
   "version": "3.11.13"
  }
 },
 "nbformat": 4,
 "nbformat_minor": 5
}
