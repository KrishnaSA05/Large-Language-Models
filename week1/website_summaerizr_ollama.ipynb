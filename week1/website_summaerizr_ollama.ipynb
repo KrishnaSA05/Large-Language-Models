{
 "cells": [
  {
   "cell_type": "code",
   "execution_count": 18,
   "id": "78c58c41",
   "metadata": {},
   "outputs": [],
   "source": [
    "import os\n",
    "import requests\n",
    "from bs4 import BeautifulSoup\n",
    "from IPython.display import Markdown, display\n",
    "import ollama"
   ]
  },
  {
   "cell_type": "code",
   "execution_count": null,
   "id": "3cb02cc5",
   "metadata": {},
   "outputs": [],
   "source": [
    "Model = \"llama3.2\""
   ]
  },
  {
   "cell_type": "code",
   "execution_count": 20,
   "id": "c102151a",
   "metadata": {},
   "outputs": [],
   "source": [
    "headers = {\n",
    " \"User-Agent\": \"Mozilla/5.0 (Windows NT 10.0; Win64; x64) AppleWebKit/537.36 (KHTML, like Gecko) Chrome/117.0.0.0 Safari/537.36\"\n",
    "}\n",
    "class Website:\n",
    "\n",
    "    def __init__(self, url):\n",
    "        self.url = url\n",
    "        response = requests.get(url, headers=headers)\n",
    "        soup = BeautifulSoup(response.content, 'html.parser') # beautifulsoup helps parse html content\n",
    "        self.title = soup.title.string if soup.title else \"No title found\"\n",
    "        for irrelevant in soup.body([\"script\", \"style\", \"img\", \"input\"]):\n",
    "            irrelevant.decompose()\n",
    "        self.text = soup.body.get_text(separator=\"\\n\", strip=True)"
   ]
  },
  {
   "cell_type": "code",
   "execution_count": 21,
   "id": "109eecf0",
   "metadata": {},
   "outputs": [
    {
     "name": "stdout",
     "output_type": "stream",
     "text": [
      "Perplexity AI - Wikipedia\n",
      "Jump to content\n",
      "Main menu\n",
      "Main menu\n",
      "move to sidebar\n",
      "hide\n",
      "Navigation\n",
      "Main page\n",
      "Contents\n",
      "Current events\n",
      "Random article\n",
      "About Wikipedia\n",
      "Contact us\n",
      "Contribute\n",
      "Help\n",
      "Learn to edit\n",
      "Community portal\n",
      "Recent changes\n",
      "Upload file\n",
      "Special pages\n",
      "Search\n",
      "Search\n",
      "Appearance\n",
      "Donate\n",
      "Create account\n",
      "Log in\n",
      "Personal tools\n",
      "Donate\n",
      "Create account\n",
      "Log in\n",
      "Pages for logged out editors\n",
      "learn more\n",
      "Contributions\n",
      "Talk\n",
      "Contents\n",
      "move to sidebar\n",
      "hide\n",
      "(Top)\n",
      "1\n",
      "History\n",
      "2\n",
      "Products and services\n",
      "Toggle Products and services subsection\n",
      "2\n"
     ]
    }
   ],
   "source": [
    "link=Website(\"https://en.wikipedia.org/wiki/Perplexity_AI\")\n",
    "print(link.title)\n",
    "print(link.text[:500])  # Print the first 500 characters of the text content"
   ]
  },
  {
   "cell_type": "code",
   "execution_count": 22,
   "id": "f33cf5b4",
   "metadata": {},
   "outputs": [],
   "source": [
    "# Define our system prompt - you can experiment with this later, changing the last sentence to 'Respond in markdown in Spanish.\"\n",
    "\n",
    "system_prompt = \"You are an assistant that analyzes the contents of a website \\\n",
    "and provides a short summary, ignoring text that might be navigation related. \\\n",
    "Respond in markdown.\""
   ]
  },
  {
   "cell_type": "code",
   "execution_count": 23,
   "id": "ede99798",
   "metadata": {},
   "outputs": [],
   "source": [
    "# A function that writes a User Prompt that asks for summaries of websites:\n",
    "\n",
    "def user_prompt_for(website):\n",
    "    user_prompt = f\"You are looking at a website titled {website.title}\"\n",
    "    user_prompt += \"\\nThe contents of this website is as follows; \\\n",
    "please provide a short summary of this website in markdown. \\\n",
    "If it includes news or announcements, then summarize these too.\\n\\n\"\n",
    "    user_prompt += website.text\n",
    "    return user_prompt"
   ]
  },
  {
   "cell_type": "code",
   "execution_count": 24,
   "id": "711eba90",
   "metadata": {},
   "outputs": [],
   "source": [
    "# See how this function creates exactly the format above\n",
    "\n",
    "def messages_for(website):\n",
    "    return [\n",
    "        {\"role\": \"system\", \"content\": system_prompt},\n",
    "        {\"role\": \"user\", \"content\": user_prompt_for(website)}\n",
    "    ]"
   ]
  },
  {
   "cell_type": "code",
   "execution_count": 27,
   "id": "f7c2fcc1",
   "metadata": {},
   "outputs": [],
   "source": [
    "# And now: call the Ollama function instead of OpenAI\n",
    "\n",
    "def summarize(url):\n",
    "    website = Website(url)\n",
    "    messages = messages_for(website)\n",
    "    response = ollama.chat(model=Model, messages=messages)\n",
    "    return response['message']['content']"
   ]
  },
  {
   "cell_type": "code",
   "execution_count": 28,
   "id": "5318a1d9",
   "metadata": {},
   "outputs": [
    {
     "data": {
      "text/plain": [
       "\"Perplexity AI is an American artificial intelligence company that specializes in developing metasearch engines, which aggregate and rank search results from multiple sources. The company was founded in 2022 by Aravind Srinivas, a software engineer who aimed to create an AI-powered search engine that could provide more relevant and accurate results.\\n\\n**Products and Services**\\n\\nPerplexity AI offers several products and services, including:\\n\\n1. **Perplexity**: Its flagship product, which uses artificial intelligence to generate personalized search results.\\n2. **Comet**: A metasearch engine that aggregates search results from multiple sources, such as web pages, images, videos, and more.\\n\\n**Features**\\n\\nPerplexity AI's products have several features that set them apart from traditional search engines:\\n\\n1. **Personalization**: Perplexity uses machine learning algorithms to provide personalized search results based on user behavior and preferences.\\n2. **Aggregation**: Comet aggregates search results from multiple sources, providing a comprehensive view of the web.\\n3. **Ranking**: Perplexity AI's algorithm ranks search results based on relevance, accuracy, and user feedback.\\n\\n**Controversies**\\n\\nPerplexity AI has faced several controversies, including:\\n\\n1. **Plagiarism accusations**: The company has been accused of plagiarism by news outlets such as Forbes and The Verge.\\n2. **Content scraping**: Perplexity AI has been criticized for scraping content from websites without permission.\\n3. **Trademark infringement**: The company has been sued for trademark infringement by other companies.\\n\\n**Leadership**\\n\\nAravind Srinivas, the founder and CEO of Perplexity AI, is a software engineer with experience in machine learning and artificial intelligence. He has stated that he was inspired by Sundar Pichai, the CEO of Google, and aimed to create an AI-powered search engine that could provide more relevant and accurate results.\\n\\n**Investments**\\n\\nPerplexity AI has received investments from several venture capital firms, including:\\n\\n1. **Kleiner Perkins**\\n2. **Sequoia Capital**\\n\\n**Partnerships**\\n\\nPerplexity AI has partnered with several companies, including:\\n\\n1. **Google**: The company has partnered with Google to aggregate search results and improve its metasearch engine.\\n2. **Microsoft**: Perplexity AI has partnered with Microsoft to develop a custom version of its metasearch engine.\\n\\nOverall, Perplexity AI is a relatively new company that aims to revolutionize the search industry with its AI-powered metasearch engines. While it has faced several controversies, the company remains committed to providing more relevant and accurate search results to users.\""
      ]
     },
     "execution_count": 28,
     "metadata": {},
     "output_type": "execute_result"
    }
   ],
   "source": [
    "summarize(\"https://en.wikipedia.org/wiki/Perplexity_AI\")"
   ]
  },
  {
   "cell_type": "code",
   "execution_count": 30,
   "id": "2dd104f2",
   "metadata": {},
   "outputs": [
    {
     "data": {
      "text/markdown": [
       "Perplexity AI is an American artificial intelligence company that provides a metasearch engine and chatbot. Here's a summary of the company:\n",
       "\n",
       "**Founding and History**\n",
       "\n",
       "Perplexity AI was founded in 2022 by Aravind Srinivas, a Berkeley alumnus who has been involved in various AI-related projects.\n",
       "\n",
       "**Products and Services**\n",
       "\n",
       "Perplexity AI offers a metasearch engine that aggregates results from multiple search engines, including Google, Bing, and Yahoo. The company also provides a chatbot that can answer questions and provide information on a wide range of topics.\n",
       "\n",
       "**Technology**\n",
       "\n",
       "Perplexity AI uses generative artificial intelligence (AI) models to power its search engine and chatbot. The company's technology is designed to learn from user interactions and improve over time, providing more accurate and relevant results.\n",
       "\n",
       "**Controversies**\n",
       "\n",
       "Perplexity AI has been involved in several controversies, including allegations of plagiarism and copyright infringement. The company has faced lawsuits from media outlets and website operators who claim that Perplexity AI has scraped their content without permission.\n",
       "\n",
       "**Acquisition**\n",
       "\n",
       "In July 2025, it was announced that Perplexity AI had acquired the assets of Dogpile, a search engine that aggregates results from multiple sources.\n",
       "\n",
       "**Leadership**\n",
       "\n",
       "Aravind Srinivas is the CEO and founder of Perplexity AI. He has also been involved in various other AI-related projects and ventures.\n",
       "\n",
       "**Funding**\n",
       "\n",
       "Perplexity AI has received funding from several investors, including venture capital firms and individual investors.\n",
       "\n",
       "Overall, Perplexity AI is a relatively new company that has made headlines with its innovative search engine and chatbot technology. However, the company has also faced significant challenges and controversies related to intellectual property and data scraping."
      ],
      "text/plain": [
       "<IPython.core.display.Markdown object>"
      ]
     },
     "metadata": {},
     "output_type": "display_data"
    }
   ],
   "source": [
    "# A function to display this nicely in the Jupyter output, using markdown\n",
    "\n",
    "def display_summary(url):\n",
    "    summary = summarize(url)\n",
    "    display(Markdown(summary))\n",
    "\n",
    "display_summary(\"https://en.wikipedia.org/wiki/Perplexity_AI\")"
   ]
  }
 ],
 "metadata": {
  "kernelspec": {
   "display_name": "llms",
   "language": "python",
   "name": "python3"
  },
  "language_info": {
   "codemirror_mode": {
    "name": "ipython",
    "version": 3
   },
   "file_extension": ".py",
   "mimetype": "text/x-python",
   "name": "python",
   "nbconvert_exporter": "python",
   "pygments_lexer": "ipython3",
   "version": "3.11.13"
  }
 },
 "nbformat": 4,
 "nbformat_minor": 5
}
